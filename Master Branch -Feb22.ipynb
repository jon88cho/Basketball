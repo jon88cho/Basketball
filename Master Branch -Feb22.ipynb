{
 "cells": [
  {
   "cell_type": "code",
   "execution_count": 1,
   "metadata": {},
   "outputs": [],
   "source": [
    "from pandas import read_html\n",
    "import pandas as pd\n",
    "from pandas import Series, DataFrame\n",
    "import seaborn as sns\n",
    "import matplotlib as plt\n",
    "import sklearn\n",
    "from bs4 import BeautifulSoup\n",
    "import urllib.request\n",
    "import import_functions as imps"
   ]
  },
  {
   "cell_type": "code",
   "execution_count": 2,
   "metadata": {},
   "outputs": [],
   "source": [
    "htmldir = 'HTML'\n",
    "try:\n",
    "    #check if csv has been generated and read it\n",
    "    reg_team_rating_dframe = pd.read_csv(\"reg_team_rating_dframe.csv\")\n",
    "    Champions_df = pd.read_csv(\"Champions_df.csv\")\n",
    "    playoff_elim_df = pd.read_csv(\"playoff_elim_df.csv\")\n",
    "    per_game_all = pd.read_csv(\"per_game_all.csv\")\n",
    "    per_poss_all = pd.read_csv(\"per_poss_all.csv\")\n",
    "except FileNotFoundError:\n",
    "    keep_html = True\n",
    "    #just check if some of the html is there\n",
    "    if os.path.isfile(htmldir + \"/leagues_NBA_1987_ratings.html\"):\n",
    "        keep_html = False\n",
    "    reg_team_rating_dframe = imps.team_ratings(keep_html, htmldir)\n",
    "    Champions_df = imps.Champion(keep_html, htmldir)\n",
    "    playoff_elim_df = imps.playoff_elim(keep_html, htmldir)\n",
    "    per_game_all, per_poss_all = imps.get_leagues_html(keep_html, htmldir)"
   ]
  },
  {
   "cell_type": "code",
   "execution_count": 3,
   "metadata": {},
   "outputs": [],
   "source": [
    "#Assist Ratio is the percentage of a team’s possessions that ends in an assist.\n",
    "#This stat is probably a good predictor because a team that has \"good ball movement\" tend to win (might be wrong obv)\n",
    "def assist_ratio (Team):\n",
    "    Assists,FGA,FTA,TO = Team\n",
    "    return ((Assists)*100)/ [(FGA)+(FTA*0.44)+(Assists)+(TO)]\n",
    "#df['assist_ratio'] = df[['Assists','FGA','FTA','TO']].apply(assist_ratio,axis=1)"
   ]
  },
  {
   "cell_type": "code",
   "execution_count": 4,
   "metadata": {},
   "outputs": [],
   "source": [
    "#make sure to specify the year this distribution is run\n",
    "def Correlated_Gaussian_Winning_Percentage(df,year):\n",
    "    df = df[df['Year']==year] #gives the entire dataframe\n",
    "    Allowed_series = df['Points_Allowed']\n",
    "    Scored_series = df['Points_Scored']\n",
    "    list_of_percentages = DataFrame(columns = ['Team','Percentage'])\n",
    "    for team in range(len(df.index)):\n",
    "        percent = scipy.norm.cdf(team['Points_Scored']-team['Points Allowed'])/((Allowed_series-Scored_series).std())\n",
    "        series = Series ([team,percent],index = ['Team','Percentage'])\n",
    "        list_of_percentages = list_of_percentages.append(series,ignore_index=True)\n",
    "    list_of_percentage['Year']=Series ([year for i in range(len(list_of_percentage.index))])\n",
    "    return list_of_percentage\n",
    "#Correlated_Gaussian_Winning_Percentage(df,year)"
   ]
  },
  {
   "cell_type": "code",
   "execution_count": null,
   "metadata": {},
   "outputs": [],
   "source": [
    "#The method that gives an expected winning percentage using the ratio of a team’s wins and losses \n",
    "#is related to the number of points scored and allowed.\n",
    "def Pythagorean_Winning_Percentage(team):\n",
    "    Points_Scored,Points_Allowed = team\n",
    "    return (np.power(Points_Scored,16.5)/(np.power(Points_Scored,16.5)+np.power(Points_Allowed,16.5)))\n",
    "#df['pythag_win_percentage'] = df[['Points_Scored','Points_Allowed']].apply(Pythagorean_Winning_Percentage,axis=1)"
   ]
  },
  {
   "cell_type": "code",
   "execution_count": null,
   "metadata": {},
   "outputs": [],
   "source": [
    "#The numerical gap between a team’s offensive efficiency and defensive efficiency. \n",
    "#The differential represents what each team did for the entire season\n",
    "#and a team’s efficiency differential is a better predictor of future success.\n",
    "def Efficiency_Differential(team):\n",
    "    Offensive Efficiency,Defensive Efficiency = team\n",
    "    return ((Offensive Efficiency)-(Defensive Efficiency))\n",
    "#df['efficiency_diff'] = df[['Off_eff'],['Def_eff']].apply(Efficiency_Differential,axis=1)"
   ]
  },
  {
   "cell_type": "code",
   "execution_count": null,
   "metadata": {},
   "outputs": [],
   "source": [
    "def transition_defense(team):\n",
    "    Opponent_Fast_Break_Points, Opponent_Steals = team\n",
    "    return ((Opponent_Fast_Break_Points)/(Opponent_Steals)) \n",
    "    #I don't think this formula is particularly accurate\n",
    "    #because transition offense can be initiated in other ways"
   ]
  },
  {
   "cell_type": "code",
   "execution_count": null,
   "metadata": {},
   "outputs": [],
   "source": [
    "def transition_offense(team):\n",
    "    Fast_Break_Points,Steals = team\n",
    "    return ((Fast_Break_Points)/(Steals))\n",
    "#I don't think this formula is particularly accurate\n",
    "#because transition offense can be initiated in other ways"
   ]
  },
  {
   "cell_type": "code",
   "execution_count": null,
   "metadata": {},
   "outputs": [],
   "source": [
    "#this stat might be a good indicator if a team is a \"rough and tough\" team as opposed to a finesse team\n",
    "#or it might indicate that the team has a dominant big man.\n",
    "def Defensive_Rebouding_Percentage(team):\n",
    "    Defensive_Rebounds,Opponent_Offensive_Rebounds = team\n",
    "    return((Defensive_Rebounds)/((Defensive_Rebounds)+(Opponent_Offensive_Rebounds)))"
   ]
  },
  {
   "cell_type": "code",
   "execution_count": null,
   "metadata": {},
   "outputs": [],
   "source": [
    "#this stat might be a good indicator if a team is a \"rough and tough\" team as opposed to a finesse team\n",
    "#or it might indicate that the team has a dominant big man.\n",
    "def Offensive_Rebounding_Percentage(team):\n",
    "    Offensive_Rebounds,Opponent_Defensive_Rebounds = team\n",
    "    return ((Offensive_Rebounds)/((Offensive_Rebounds)+(Opponent_Defensive_Rebounds)))"
   ]
  },
  {
   "cell_type": "code",
   "execution_count": null,
   "metadata": {},
   "outputs": [],
   "source": [
    "#shows how fast a team plays\n",
    "def pace (team):\n",
    "    Team_Minutes,Possession_Team,Possession_Opponent = team\n",
    "    return ((240/(Team_Minutes))*((Possession_Team+Possession_Opponent)/2))"
   ]
  },
  {
   "cell_type": "code",
   "execution_count": null,
   "metadata": {},
   "outputs": [],
   "source": [
    "#The metric that indicates the percentage of the time a team will score if not sent to the free throw line. \n",
    "def play_percentage(team):\n",
    "    FGM,FGA,Offensive_Rebounds,Turnovers = team\n",
    "    return (FGM/(FGA-Offensive_Rebounds+Turnovers))"
   ]
  },
  {
   "cell_type": "code",
   "execution_count": null,
   "metadata": {},
   "outputs": [],
   "source": [
    "#Turnover Ratio is the percentage of a team’s possessions that end in a turnover.\n",
    "#this is likely to be a pretty good indicator as teams which take care of the ball are better (might be wrong)\n",
    "def Turnover_Ratio(team):\n",
    "    Turnovers,FGA,FTA,Assists,Turnovers = team\n",
    "    return ((Turnovers*100)/ ((FGA)+(FTA*0.44)+(Assists)+(Turnovers)))"
   ]
  }
 ],
 "metadata": {
  "kernelspec": {
   "display_name": "Python 3",
   "language": "python",
   "name": "python3"
  },
  "language_info": {
   "codemirror_mode": {
    "name": "ipython",
    "version": 3
   },
   "file_extension": ".py",
   "mimetype": "text/x-python",
   "name": "python",
   "nbconvert_exporter": "python",
   "pygments_lexer": "ipython3",
   "version": "3.6.3"
  }
 },
 "nbformat": 4,
 "nbformat_minor": 2
}
