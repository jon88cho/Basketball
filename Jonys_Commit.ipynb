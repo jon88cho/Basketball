{
 "cells": [
  {
   "cell_type": "code",
   "execution_count": 50,
   "metadata": {},
   "outputs": [],
   "source": [
    "import pandas as pd\n",
    "from pandas import DataFrame,Series\n",
    "import seaborn as sns\n",
    "import matplotlib as plt\n",
    "import scipy\n",
    "import Advanced_Features\n",
    "%matplotlib inline"
   ]
  },
  {
   "cell_type": "code",
   "execution_count": 2,
   "metadata": {},
   "outputs": [],
   "source": [
    "Reg_Season_Rating = pd.read_csv(\"basketball_csvs/Regular_Season_Team_Rating.csv\")\n",
    "Champions = pd.read_csv(\"basketball_csvs/Champions.csv\")\n",
    "Playoff_elim = pd.read_csv(\"basketball_csvs/playoff_elim.csv\")\n",
    "per100_stats = pd.read_csv(\"basketball_csvs/per_poss_all.csv\")\n",
    "All_stats = pd.read_csv(\"basketball_csvs/per_game_all.csv\")"
   ]
  },
  {
   "cell_type": "code",
   "execution_count": 10,
   "metadata": {},
   "outputs": [],
   "source": [
    "Unadjusted_Reg_Season_Rating = Reg_Season_Rating.drop(columns = ['Conf','Div','W','L','MOV/A','ORtg/A','DRtg/A','NRtg/A'])\n",
    "Adjusted_Reg_Season_Rating=Reg_Season_Rating.drop(columns = ['Conf','Div','W','L','MOV','ORtg','DRtg','NRtg'])"
   ]
  },
  {
   "cell_type": "code",
   "execution_count": 31,
   "metadata": {},
   "outputs": [],
   "source": [
    "Playoff_elim.Year=Playoff_elim.Year.astype(int)\n",
    "Playoff_elim.head()\n",
    "Playoff_elim.rename(columns={'Teams':'Team'},inplace=True)"
   ]
  },
  {
   "cell_type": "code",
   "execution_count": 34,
   "metadata": {},
   "outputs": [
    {
     "data": {
      "text/html": [
       "<div>\n",
       "<style scoped>\n",
       "    .dataframe tbody tr th:only-of-type {\n",
       "        vertical-align: middle;\n",
       "    }\n",
       "\n",
       "    .dataframe tbody tr th {\n",
       "        vertical-align: top;\n",
       "    }\n",
       "\n",
       "    .dataframe thead th {\n",
       "        text-align: right;\n",
       "    }\n",
       "</style>\n",
       "<table border=\"1\" class=\"dataframe\">\n",
       "  <thead>\n",
       "    <tr style=\"text-align: right;\">\n",
       "      <th></th>\n",
       "      <th>Rank</th>\n",
       "      <th>Team</th>\n",
       "      <th>W/L%</th>\n",
       "      <th>MOV</th>\n",
       "      <th>ORtg</th>\n",
       "      <th>DRtg</th>\n",
       "      <th>NRtg</th>\n",
       "      <th>Year</th>\n",
       "      <th>Position</th>\n",
       "    </tr>\n",
       "  </thead>\n",
       "  <tbody>\n",
       "    <tr>\n",
       "      <th>0</th>\n",
       "      <td>1</td>\n",
       "      <td>Boston Celtics</td>\n",
       "      <td>0.817</td>\n",
       "      <td>9.41</td>\n",
       "      <td>112.40</td>\n",
       "      <td>103.16</td>\n",
       "      <td>9.24</td>\n",
       "      <td>1986</td>\n",
       "      <td>1</td>\n",
       "    </tr>\n",
       "    <tr>\n",
       "      <th>1</th>\n",
       "      <td>2</td>\n",
       "      <td>Milwaukee Bucks</td>\n",
       "      <td>0.695</td>\n",
       "      <td>9.04</td>\n",
       "      <td>112.05</td>\n",
       "      <td>103.09</td>\n",
       "      <td>8.95</td>\n",
       "      <td>1986</td>\n",
       "      <td>3</td>\n",
       "    </tr>\n",
       "    <tr>\n",
       "      <th>2</th>\n",
       "      <td>3</td>\n",
       "      <td>Los Angeles Lakers</td>\n",
       "      <td>0.756</td>\n",
       "      <td>7.74</td>\n",
       "      <td>113.69</td>\n",
       "      <td>106.38</td>\n",
       "      <td>7.32</td>\n",
       "      <td>1986</td>\n",
       "      <td>3</td>\n",
       "    </tr>\n",
       "    <tr>\n",
       "      <th>3</th>\n",
       "      <td>4</td>\n",
       "      <td>Atlanta Hawks</td>\n",
       "      <td>0.610</td>\n",
       "      <td>2.37</td>\n",
       "      <td>108.43</td>\n",
       "      <td>106.06</td>\n",
       "      <td>2.36</td>\n",
       "      <td>1986</td>\n",
       "      <td>4</td>\n",
       "    </tr>\n",
       "    <tr>\n",
       "      <th>4</th>\n",
       "      <td>5</td>\n",
       "      <td>Philadelphia 76ers</td>\n",
       "      <td>0.659</td>\n",
       "      <td>2.35</td>\n",
       "      <td>109.01</td>\n",
       "      <td>106.81</td>\n",
       "      <td>2.21</td>\n",
       "      <td>1986</td>\n",
       "      <td>4</td>\n",
       "    </tr>\n",
       "  </tbody>\n",
       "</table>\n",
       "</div>"
      ],
      "text/plain": [
       "   Rank                Team   W/L%   MOV    ORtg    DRtg  NRtg  Year  Position\n",
       "0     1      Boston Celtics  0.817  9.41  112.40  103.16  9.24  1986         1\n",
       "1     2     Milwaukee Bucks  0.695  9.04  112.05  103.09  8.95  1986         3\n",
       "2     3  Los Angeles Lakers  0.756  7.74  113.69  106.38  7.32  1986         3\n",
       "3     4       Atlanta Hawks  0.610  2.37  108.43  106.06  2.36  1986         4\n",
       "4     5  Philadelphia 76ers  0.659  2.35  109.01  106.81  2.21  1986         4"
      ]
     },
     "execution_count": 34,
     "metadata": {},
     "output_type": "execute_result"
    }
   ],
   "source": [
    "pd.merge(Unadjusted_Reg_Season_Rating,Playoff_elim, on=['Team','Year']).head()"
   ]
  },
  {
   "cell_type": "code",
   "execution_count": 13,
   "metadata": {},
   "outputs": [
    {
     "data": {
      "text/plain": [
       "<seaborn.axisgrid.FacetGrid at 0x108e9eeb8>"
      ]
     },
     "execution_count": 13,
     "metadata": {},
     "output_type": "execute_result"
    },
    {
     "data": {
      "image/png": "[encoded data removed]",
      "text/plain": [
       "<matplotlib.figure.Figure at 0x103947160>"
      ]
     },
     "metadata": {},
     "output_type": "display_data"
    }
   ],
   "source": [
    "sns.factorplot(x='ORTG',y = 'W/L%', data = Unadjusted_Reg_Season_Rating,)"
   ]
  },
  {
   "cell_type": "code",
   "execution_count": null,
   "metadata": {},
   "outputs": [],
   "source": []
  }
 ],
 "metadata": {
  "kernelspec": {
   "display_name": "Python 3",
   "language": "python",
   "name": "python3"
  },
  "language_info": {
   "codemirror_mode": {
    "name": "ipython",
    "version": 3
   },
   "file_extension": ".py",
   "mimetype": "text/x-python",
   "name": "python",
   "nbconvert_exporter": "python",
   "pygments_lexer": "ipython3",
   "version": "3.6.3"
  }
 },
 "nbformat": 4,
 "nbformat_minor": 2
}
