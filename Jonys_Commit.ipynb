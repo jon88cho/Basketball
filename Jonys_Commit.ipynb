{
 "cells": [
  {
   "cell_type": "code",
   "execution_count": 1,
   "metadata": {},
   "outputs": [],
   "source": [
    "import pandas as pd\n",
    "from pandas import DataFrame,Series\n",
    "import seaborn as sns\n",
    "import matplotlib as plt\n",
    "import scipy\n",
    "import Advanced_Features\n",
    "%matplotlib inline"
   ]
  },
  {
   "cell_type": "code",
   "execution_count": 2,
   "metadata": {},
   "outputs": [],
   "source": [
    "Reg_Season_Rating = pd.read_csv(\"basketball_csvs/Regular_Season_Team_Rating.csv\")\n",
    "Champions = pd.read_csv(\"basketball_csvs/Champions.csv\")\n",
    "Playoff_elim = pd.read_csv(\"basketball_csvs/playoff_elim.csv\")\n",
    "per100_stats = pd.read_csv(\"basketball_csvs/per_poss_all.csv\")\n",
    "All_stats = pd.read_csv(\"basketball_csvs/per_game_all.csv\")"
   ]
  },
  {
   "cell_type": "code",
   "execution_count": 3,
   "metadata": {},
   "outputs": [],
   "source": [
    "All_stats['Assist_Ratio'] = All_stats[['AST_game','FGA_game','FTA_game','TOV_game']].apply(Advanced_Features.assist_ratio,axis=1)"
   ]
  },
  {
   "cell_type": "code",
   "execution_count": 4,
   "metadata": {},
   "outputs": [],
   "source": [
    "All_stats['Pythagorean_Winning_Percentage'] = All_stats[['PTS_game','PTS_opp_game']].apply(Advanced_Features.Pythagorean_Winning_Percentage,axis=1)"
   ]
  },
  {
   "cell_type": "code",
   "execution_count": 5,
   "metadata": {},
   "outputs": [],
   "source": [
    "All_stats['Efficiency_Differential']=Reg_Season_Rating[['ORtg','DRtg']].apply(Advanced_Features.Efficiency_Differential,axis=1)"
   ]
  },
  {
   "cell_type": "code",
   "execution_count": 6,
   "metadata": {},
   "outputs": [],
   "source": [
    "All_stats['Defensive_Rebounding_Percentage'] = All_stats[['DRB_game','ORB_opp_game']].apply(Advanced_Features.Defensive_Rebouding_Percentage,axis=1)\n"
   ]
  },
  {
   "cell_type": "code",
   "execution_count": 7,
   "metadata": {},
   "outputs": [],
   "source": [
    "All_stats['Possessions_game'] = All_stats[['FGA_game','TOV_game','FTA_game','ORB_game']].apply(Advanced_Features.possessions,axis=1)"
   ]
  },
  {
   "cell_type": "code",
   "execution_count": 8,
   "metadata": {},
   "outputs": [],
   "source": [
    "All_stats['Possessions_opp_game'] = All_stats[['FGA_opp_game','TOV_opp_game','FTA_opp_game','ORB_opp_game']].apply(Advanced_Features.possessions,axis=1)"
   ]
  },
  {
   "cell_type": "code",
   "execution_count": 9,
   "metadata": {},
   "outputs": [],
   "source": [
    "All_stats['Offensive_Rebounding_Percentage'] = All_stats[['ORB_game','DRB_opp_game']].apply(Advanced_Features.Offensive_Rebounding_Percentage,axis=1)"
   ]
  },
  {
   "cell_type": "code",
   "execution_count": 10,
   "metadata": {},
   "outputs": [],
   "source": [
    "All_stats['Pace'] = All_stats[['MP_game','Possessions_game','Possessions_opp_game']].apply(Advanced_Features.pace,axis=1)"
   ]
  },
  {
   "cell_type": "code",
   "execution_count": 11,
   "metadata": {},
   "outputs": [],
   "source": [
    "All_stats['Play_Percentage'] = All_stats[['FG_game','FGA_game','ORB_game','TOV_game']].apply(Advanced_Features.play_percentage,axis=1)"
   ]
  },
  {
   "cell_type": "code",
   "execution_count": 12,
   "metadata": {},
   "outputs": [],
   "source": [
    "All_stats['Turnover_Ratio'] = All_stats[['TOV_game','FGA_game','FTA_game','AST_game','TOV_game']].apply(Advanced_Features.Turnover_Ratio,axis=1)"
   ]
  },
  {
   "cell_type": "code",
   "execution_count": 13,
   "metadata": {},
   "outputs": [],
   "source": [
    "Advanced_features = All_stats[['Year','Team_game','Assist_Ratio',\n",
    "                              'Pythagorean_Winning_Percentage','Efficiency_Differential',\n",
    "                              'Defensive_Rebounding_Percentage','Possessions_game','Possessions_opp_game',\n",
    "                              'Offensive_Rebounding_Percentage','Pace','Play_Percentage','Turnover_Ratio']]"
   ]
  },
  {
   "cell_type": "code",
   "execution_count": 14,
   "metadata": {},
   "outputs": [],
   "source": [
    "def asterisk (name):\n",
    "    if \"*\" in name:\n",
    "        return name[:(len(name)-1)]\n",
    "    else:\n",
    "        return name"
   ]
  },
  {
   "cell_type": "code",
   "execution_count": 15,
   "metadata": {},
   "outputs": [],
   "source": [
    "Pace_Average = DataFrame()\n",
    "for i in range (1986,2018):\n",
    "    temp_df = Advanced_features[['Pace','Year']][Advanced_features['Year'] == i]\n",
    "    temp_df['Pace_Average'] = temp_df.Pace.mean()\n",
    "    Pace_Average = Pace_Average.append(temp_df)"
   ]
  },
  {
   "cell_type": "code",
   "execution_count": 16,
   "metadata": {},
   "outputs": [],
   "source": [
    "Advanced_features = pd.concat([Advanced_features,Pace_Average['Pace_Average']],axis=1)\n",
    "Advanced_features['Team_game'] = Advanced_features['Team_game'].apply(asterisk)"
   ]
  },
  {
   "cell_type": "code",
   "execution_count": 17,
   "metadata": {},
   "outputs": [],
   "source": [
    "Advanced_features.rename (columns={\"Team_game\":\"Team\"},inplace=True)"
   ]
  },
  {
   "cell_type": "code",
   "execution_count": 18,
   "metadata": {},
   "outputs": [],
   "source": [
    "Unadjusted_Reg_Season_Rating = Reg_Season_Rating.drop(columns = ['Conf','Div','W','L','MOV/A','ORtg/A','DRtg/A','NRtg/A'])\n",
    "Adjusted_Reg_Season_Rating=Reg_Season_Rating.drop(columns = ['Conf','Div','W','L','MOV','ORtg','DRtg','NRtg'])"
   ]
  },
  {
   "cell_type": "code",
   "execution_count": 19,
   "metadata": {},
   "outputs": [],
   "source": [
    "Advanced_features = pd.merge(Advanced_features,Adjusted_Reg_Season_Rating, on=['Team','Year']).head()"
   ]
  },
  {
   "cell_type": "code",
   "execution_count": 20,
   "metadata": {},
   "outputs": [],
   "source": [
    "Advanced_features['Pace_Differential'] = Advanced_features['Pace']-Advanced_features['Pace_Average']"
   ]
  },
  {
   "cell_type": "code",
   "execution_count": 21,
   "metadata": {},
   "outputs": [],
   "source": [
    "Advanced_features['Possessions_Differential'] = Advanced_features['Possessions_game']-Advanced_features['Possessions_opp_game']"
   ]
  },
  {
   "cell_type": "code",
   "execution_count": 22,
   "metadata": {},
   "outputs": [],
   "source": [
    "Playoff_elim.Year=Playoff_elim.Year.astype(int)\n",
    "Playoff_elim.head()\n",
    "Playoff_elim.rename(columns={'Teams':'Team'},inplace=True)"
   ]
  },
  {
   "cell_type": "code",
   "execution_count": 23,
   "metadata": {},
   "outputs": [],
   "source": [
    "Unadjusted_Reg_Season_Rating = pd.merge(Unadjusted_Reg_Season_Rating,Playoff_elim, on=['Team','Year']).head()"
   ]
  },
  {
   "cell_type": "code",
   "execution_count": 24,
   "metadata": {},
   "outputs": [
    {
     "data": {
      "text/html": [
       "<div>\n",
       "<style scoped>\n",
       "    .dataframe tbody tr th:only-of-type {\n",
       "        vertical-align: middle;\n",
       "    }\n",
       "\n",
       "    .dataframe tbody tr th {\n",
       "        vertical-align: top;\n",
       "    }\n",
       "\n",
       "    .dataframe thead th {\n",
       "        text-align: right;\n",
       "    }\n",
       "</style>\n",
       "<table border=\"1\" class=\"dataframe\">\n",
       "  <thead>\n",
       "    <tr style=\"text-align: right;\">\n",
       "      <th></th>\n",
       "      <th>Year</th>\n",
       "      <th>Team</th>\n",
       "      <th>Assist_Ratio</th>\n",
       "      <th>Pythagorean_Winning_Percentage</th>\n",
       "      <th>Efficiency_Differential</th>\n",
       "      <th>Defensive_Rebounding_Percentage</th>\n",
       "      <th>Possessions_game</th>\n",
       "      <th>Possessions_opp_game</th>\n",
       "      <th>Offensive_Rebounding_Percentage</th>\n",
       "      <th>Pace</th>\n",
       "      <th>...</th>\n",
       "      <th>Turnover_Ratio</th>\n",
       "      <th>Pace_Average</th>\n",
       "      <th>Rank</th>\n",
       "      <th>W/L%</th>\n",
       "      <th>MOV/A</th>\n",
       "      <th>ORtg/A</th>\n",
       "      <th>DRtg/A</th>\n",
       "      <th>NRtg/A</th>\n",
       "      <th>Pace_Differential</th>\n",
       "      <th>Possessions_Differential</th>\n",
       "    </tr>\n",
       "  </thead>\n",
       "  <tbody>\n",
       "    <tr>\n",
       "      <th>0</th>\n",
       "      <td>1986</td>\n",
       "      <td>Atlanta Hawks</td>\n",
       "      <td>17.270312</td>\n",
       "      <td>0.591152</td>\n",
       "      <td>9.24</td>\n",
       "      <td>0.665909</td>\n",
       "      <td>98.99520</td>\n",
       "      <td>99.13344</td>\n",
       "      <td>0.348624</td>\n",
       "      <td>98.449014</td>\n",
       "      <td>...</td>\n",
       "      <td>12.655573</td>\n",
       "      <td>100.77809</td>\n",
       "      <td>4</td>\n",
       "      <td>0.610</td>\n",
       "      <td>2.59</td>\n",
       "      <td>108.76</td>\n",
       "      <td>106.19</td>\n",
       "      <td>2.57</td>\n",
       "      <td>-2.329076</td>\n",
       "      <td>-0.13824</td>\n",
       "    </tr>\n",
       "    <tr>\n",
       "      <th>1</th>\n",
       "      <td>1986</td>\n",
       "      <td>Boston Celtics</td>\n",
       "      <td>19.801845</td>\n",
       "      <td>0.805120</td>\n",
       "      <td>8.96</td>\n",
       "      <td>0.716418</td>\n",
       "      <td>100.75776</td>\n",
       "      <td>100.62336</td>\n",
       "      <td>0.313107</td>\n",
       "      <td>99.817160</td>\n",
       "      <td>...</td>\n",
       "      <td>11.295898</td>\n",
       "      <td>100.77809</td>\n",
       "      <td>1</td>\n",
       "      <td>0.817</td>\n",
       "      <td>9.06</td>\n",
       "      <td>112.54</td>\n",
       "      <td>103.67</td>\n",
       "      <td>8.87</td>\n",
       "      <td>-0.960930</td>\n",
       "      <td>0.13440</td>\n",
       "    </tr>\n",
       "    <tr>\n",
       "      <th>2</th>\n",
       "      <td>1986</td>\n",
       "      <td>Chicago Bulls</td>\n",
       "      <td>17.070792</td>\n",
       "      <td>0.362645</td>\n",
       "      <td>7.31</td>\n",
       "      <td>0.673123</td>\n",
       "      <td>99.28320</td>\n",
       "      <td>99.24480</td>\n",
       "      <td>0.351351</td>\n",
       "      <td>98.402974</td>\n",
       "      <td>...</td>\n",
       "      <td>12.193423</td>\n",
       "      <td>100.77809</td>\n",
       "      <td>20</td>\n",
       "      <td>0.366</td>\n",
       "      <td>-3.12</td>\n",
       "      <td>109.95</td>\n",
       "      <td>113.06</td>\n",
       "      <td>-3.11</td>\n",
       "      <td>-2.375116</td>\n",
       "      <td>0.03840</td>\n",
       "    </tr>\n",
       "    <tr>\n",
       "      <th>3</th>\n",
       "      <td>1986</td>\n",
       "      <td>Cleveland Cavaliers</td>\n",
       "      <td>17.598257</td>\n",
       "      <td>0.395775</td>\n",
       "      <td>2.37</td>\n",
       "      <td>0.684211</td>\n",
       "      <td>100.60416</td>\n",
       "      <td>101.26464</td>\n",
       "      <td>0.302752</td>\n",
       "      <td>100.432239</td>\n",
       "      <td>...</td>\n",
       "      <td>12.011509</td>\n",
       "      <td>100.77809</td>\n",
       "      <td>16</td>\n",
       "      <td>0.354</td>\n",
       "      <td>-2.19</td>\n",
       "      <td>106.37</td>\n",
       "      <td>108.53</td>\n",
       "      <td>-2.17</td>\n",
       "      <td>-0.345851</td>\n",
       "      <td>-0.66048</td>\n",
       "    </tr>\n",
       "    <tr>\n",
       "      <th>4</th>\n",
       "      <td>1986</td>\n",
       "      <td>Dallas Mavericks</td>\n",
       "      <td>17.838798</td>\n",
       "      <td>0.539461</td>\n",
       "      <td>2.20</td>\n",
       "      <td>0.667411</td>\n",
       "      <td>101.24928</td>\n",
       "      <td>101.28000</td>\n",
       "      <td>0.300000</td>\n",
       "      <td>100.635667</td>\n",
       "      <td>...</td>\n",
       "      <td>10.897632</td>\n",
       "      <td>100.77809</td>\n",
       "      <td>8</td>\n",
       "      <td>0.537</td>\n",
       "      <td>0.70</td>\n",
       "      <td>112.45</td>\n",
       "      <td>111.59</td>\n",
       "      <td>0.86</td>\n",
       "      <td>-0.142423</td>\n",
       "      <td>-0.03072</td>\n",
       "    </tr>\n",
       "  </tbody>\n",
       "</table>\n",
       "<p>5 rows × 21 columns</p>\n",
       "</div>"
      ],
      "text/plain": [
       "   Year                 Team  Assist_Ratio  Pythagorean_Winning_Percentage  \\\n",
       "0  1986        Atlanta Hawks     17.270312                        0.591152   \n",
       "1  1986       Boston Celtics     19.801845                        0.805120   \n",
       "2  1986        Chicago Bulls     17.070792                        0.362645   \n",
       "3  1986  Cleveland Cavaliers     17.598257                        0.395775   \n",
       "4  1986     Dallas Mavericks     17.838798                        0.539461   \n",
       "\n",
       "   Efficiency_Differential  Defensive_Rebounding_Percentage  Possessions_game  \\\n",
       "0                     9.24                         0.665909          98.99520   \n",
       "1                     8.96                         0.716418         100.75776   \n",
       "2                     7.31                         0.673123          99.28320   \n",
       "3                     2.37                         0.684211         100.60416   \n",
       "4                     2.20                         0.667411         101.24928   \n",
       "\n",
       "   Possessions_opp_game  Offensive_Rebounding_Percentage        Pace  \\\n",
       "0              99.13344                         0.348624   98.449014   \n",
       "1             100.62336                         0.313107   99.817160   \n",
       "2              99.24480                         0.351351   98.402974   \n",
       "3             101.26464                         0.302752  100.432239   \n",
       "4             101.28000                         0.300000  100.635667   \n",
       "\n",
       "             ...             Turnover_Ratio  Pace_Average  Rank   W/L%  MOV/A  \\\n",
       "0            ...                  12.655573     100.77809     4  0.610   2.59   \n",
       "1            ...                  11.295898     100.77809     1  0.817   9.06   \n",
       "2            ...                  12.193423     100.77809    20  0.366  -3.12   \n",
       "3            ...                  12.011509     100.77809    16  0.354  -2.19   \n",
       "4            ...                  10.897632     100.77809     8  0.537   0.70   \n",
       "\n",
       "   ORtg/A  DRtg/A  NRtg/A  Pace_Differential  Possessions_Differential  \n",
       "0  108.76  106.19    2.57          -2.329076                  -0.13824  \n",
       "1  112.54  103.67    8.87          -0.960930                   0.13440  \n",
       "2  109.95  113.06   -3.11          -2.375116                   0.03840  \n",
       "3  106.37  108.53   -2.17          -0.345851                  -0.66048  \n",
       "4  112.45  111.59    0.86          -0.142423                  -0.03072  \n",
       "\n",
       "[5 rows x 21 columns]"
      ]
     },
     "execution_count": 24,
     "metadata": {},
     "output_type": "execute_result"
    }
   ],
   "source": [
    "Advanced_features.head()"
   ]
  },
  {
   "cell_type": "code",
   "execution_count": null,
   "metadata": {},
   "outputs": [],
   "source": []
  },
  {
   "cell_type": "code",
   "execution_count": 34,
   "metadata": {},
   "outputs": [
    {
     "data": {
      "text/plain": [
       "<seaborn.axisgrid.FacetGrid at 0x112ae91d0>"
      ]
     },
     "execution_count": 34,
     "metadata": {},
     "output_type": "execute_result"
    },
    {
     "data": {
      "image/png": "[encoded data removed]",
      "text/plain": [
       "<matplotlib.figure.Figure at 0x1126d4dd8>"
      ]
     },
     "metadata": {},
     "output_type": "display_data"
    }
   ],
   "source": [
    "sns.factorplot(x='DRtg/A',y='W/L%',data=Advanced_features,size=14)"
   ]
  },
  {
   "cell_type": "code",
   "execution_count": null,
   "metadata": {},
   "outputs": [],
   "source": []
  }
 ],
 "metadata": {
  "kernelspec": {
   "display_name": "Python 3",
   "language": "python",
   "name": "python3"
  },
  "language_info": {
   "codemirror_mode": {
    "name": "ipython",
    "version": 3
   },
   "file_extension": ".py",
   "mimetype": "text/x-python",
   "name": "python",
   "nbconvert_exporter": "python",
   "pygments_lexer": "ipython3",
   "version": "3.6.3"
  }
 },
 "nbformat": 4,
 "nbformat_minor": 2
}
