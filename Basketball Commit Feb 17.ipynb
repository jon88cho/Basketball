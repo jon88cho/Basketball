{
 "cells": [
  {
   "cell_type": "code",
   "execution_count": 1,
   "metadata": {},
   "outputs": [],
   "source": [
    "from pandas import read_html\n",
    "import pandas as pd\n",
    "from pandas import Series, DataFrame\n",
    "import seaborn as sns\n",
    "import matplotlib as plt\n",
    "import sklearn\n",
    "from bs4 import BeautifulSoup\n",
    "import urllib.request\n",
    "import import_functions as imps"
   ]
  },
  {
   "cell_type": "code",
   "execution_count": 2,
   "metadata": {},
   "outputs": [],
   "source": [
    "htmldir = 'HTML'\n",
    "try:\n",
    "    #check if csv has been generated and read it\n",
    "    reg_team_rating_dframe = pd.read_csv(\"reg_team_rating_dframe.csv\")\n",
    "except FileNotFoundError:\n",
    "    keep_html = True\n",
    "    #just check if some of the html is there\n",
    "    if os.path.isfile(htmldir + \"/leagues_NBA_1987_ratings.html\"):\n",
    "        keep_html = False\n",
    "    reg_team_rating_dframe = imps.team_ratings(keep_html, htmldir)\n",
    "    Champions_df = imps.Champion(keep_html, htmldir)\n",
    "    playoff_elim_df = imps.playoff_elim(keep_html, htmldir)\n",
    "    per_game_all = imps.get_leagues_html(keep_html, htmldir)"
   ]
  },
  {
   "cell_type": "code",
   "execution_count": 3,
   "metadata": {},
   "outputs": [],
   "source": [
    "\n"
   ]
  },
  {
   "cell_type": "code",
   "execution_count": 4,
   "metadata": {},
   "outputs": [],
   "source": []
  },
  {
   "cell_type": "code",
   "execution_count": null,
   "metadata": {},
   "outputs": [],
   "source": []
  },
  {
   "cell_type": "code",
   "execution_count": null,
   "metadata": {},
   "outputs": [],
   "source": []
  },
  {
   "cell_type": "code",
   "execution_count": null,
   "metadata": {},
   "outputs": [],
   "source": []
  },
  {
   "cell_type": "code",
   "execution_count": null,
   "metadata": {},
   "outputs": [],
   "source": []
  },
  {
   "cell_type": "code",
   "execution_count": null,
   "metadata": {},
   "outputs": [],
   "source": []
  }
 ],
 "metadata": {
  "kernelspec": {
   "display_name": "Python 3",
   "language": "python",
   "name": "python3"
  },
  "language_info": {
   "codemirror_mode": {
    "name": "ipython",
    "version": 3
   },
   "file_extension": ".py",
   "mimetype": "text/x-python",
   "name": "python",
   "nbconvert_exporter": "python",
   "pygments_lexer": "ipython3",
   "version": "3.6.2"
  }
 },
 "nbformat": 4,
 "nbformat_minor": 2
}
