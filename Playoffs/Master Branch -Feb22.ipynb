{
 "cells": [
  {
   "cell_type": "code",
   "execution_count": 1,
   "metadata": {},
   "outputs": [],
   "source": [
    "from pandas import read_html\n",
    "import pandas as pd\n",
    "from pandas import Series, DataFrame\n",
    "import seaborn as sns\n",
    "import matplotlib as plt\n",
    "import sklearn\n",
    "from bs4 import BeautifulSoup\n",
    "import urllib.request\n",
    "import import_functions as imps"
   ]
  },
  {
   "cell_type": "code",
   "execution_count": 2,
   "metadata": {},
   "outputs": [
    {
     "ename": "NameError",
     "evalue": "name 'os' is not defined",
     "output_type": "error",
     "traceback": [
      "\u001b[0;31m---------------------------------------------------------------------------\u001b[0m",
      "\u001b[0;31mFileNotFoundError\u001b[0m                         Traceback (most recent call last)",
      "\u001b[0;32m<ipython-input-2-b135609ba343>\u001b[0m in \u001b[0;36m<module>\u001b[0;34m()\u001b[0m\n\u001b[1;32m      3\u001b[0m     \u001b[0;31m#check if csv has been generated and read it\u001b[0m\u001b[0;34m\u001b[0m\u001b[0;34m\u001b[0m\u001b[0m\n\u001b[0;32m----> 4\u001b[0;31m     \u001b[0mreg_team_rating_dframe\u001b[0m \u001b[0;34m=\u001b[0m \u001b[0mpd\u001b[0m\u001b[0;34m.\u001b[0m\u001b[0mread_csv\u001b[0m\u001b[0;34m(\u001b[0m\u001b[0;34m\"reg_team_rating_dframe.csv\"\u001b[0m\u001b[0;34m)\u001b[0m\u001b[0;34m\u001b[0m\u001b[0m\n\u001b[0m\u001b[1;32m      5\u001b[0m \u001b[0;32mexcept\u001b[0m \u001b[0mFileNotFoundError\u001b[0m\u001b[0;34m:\u001b[0m\u001b[0;34m\u001b[0m\u001b[0m\n",
      "\u001b[0;32m/usr/local/lib/python3.6/site-packages/pandas/io/parsers.py\u001b[0m in \u001b[0;36mparser_f\u001b[0;34m(filepath_or_buffer, sep, delimiter, header, names, index_col, usecols, squeeze, prefix, mangle_dupe_cols, dtype, engine, converters, true_values, false_values, skipinitialspace, skiprows, nrows, na_values, keep_default_na, na_filter, verbose, skip_blank_lines, parse_dates, infer_datetime_format, keep_date_col, date_parser, dayfirst, iterator, chunksize, compression, thousands, decimal, lineterminator, quotechar, quoting, escapechar, comment, encoding, dialect, tupleize_cols, error_bad_lines, warn_bad_lines, skipfooter, skip_footer, doublequote, delim_whitespace, as_recarray, compact_ints, use_unsigned, low_memory, buffer_lines, memory_map, float_precision)\u001b[0m\n\u001b[1;32m    708\u001b[0m \u001b[0;34m\u001b[0m\u001b[0m\n\u001b[0;32m--> 709\u001b[0;31m         \u001b[0;32mreturn\u001b[0m \u001b[0m_read\u001b[0m\u001b[0;34m(\u001b[0m\u001b[0mfilepath_or_buffer\u001b[0m\u001b[0;34m,\u001b[0m \u001b[0mkwds\u001b[0m\u001b[0;34m)\u001b[0m\u001b[0;34m\u001b[0m\u001b[0m\n\u001b[0m\u001b[1;32m    710\u001b[0m \u001b[0;34m\u001b[0m\u001b[0m\n",
      "\u001b[0;32m/usr/local/lib/python3.6/site-packages/pandas/io/parsers.py\u001b[0m in \u001b[0;36m_read\u001b[0;34m(filepath_or_buffer, kwds)\u001b[0m\n\u001b[1;32m    448\u001b[0m     \u001b[0;31m# Create the parser.\u001b[0m\u001b[0;34m\u001b[0m\u001b[0;34m\u001b[0m\u001b[0m\n\u001b[0;32m--> 449\u001b[0;31m     \u001b[0mparser\u001b[0m \u001b[0;34m=\u001b[0m \u001b[0mTextFileReader\u001b[0m\u001b[0;34m(\u001b[0m\u001b[0mfilepath_or_buffer\u001b[0m\u001b[0;34m,\u001b[0m \u001b[0;34m**\u001b[0m\u001b[0mkwds\u001b[0m\u001b[0;34m)\u001b[0m\u001b[0;34m\u001b[0m\u001b[0m\n\u001b[0m\u001b[1;32m    450\u001b[0m \u001b[0;34m\u001b[0m\u001b[0m\n",
      "\u001b[0;32m/usr/local/lib/python3.6/site-packages/pandas/io/parsers.py\u001b[0m in \u001b[0;36m__init__\u001b[0;34m(self, f, engine, **kwds)\u001b[0m\n\u001b[1;32m    817\u001b[0m \u001b[0;34m\u001b[0m\u001b[0m\n\u001b[0;32m--> 818\u001b[0;31m         \u001b[0mself\u001b[0m\u001b[0;34m.\u001b[0m\u001b[0m_make_engine\u001b[0m\u001b[0;34m(\u001b[0m\u001b[0mself\u001b[0m\u001b[0;34m.\u001b[0m\u001b[0mengine\u001b[0m\u001b[0;34m)\u001b[0m\u001b[0;34m\u001b[0m\u001b[0m\n\u001b[0m\u001b[1;32m    819\u001b[0m \u001b[0;34m\u001b[0m\u001b[0m\n",
      "\u001b[0;32m/usr/local/lib/python3.6/site-packages/pandas/io/parsers.py\u001b[0m in \u001b[0;36m_make_engine\u001b[0;34m(self, engine)\u001b[0m\n\u001b[1;32m   1048\u001b[0m         \u001b[0;32mif\u001b[0m \u001b[0mengine\u001b[0m \u001b[0;34m==\u001b[0m \u001b[0;34m'c'\u001b[0m\u001b[0;34m:\u001b[0m\u001b[0;34m\u001b[0m\u001b[0m\n\u001b[0;32m-> 1049\u001b[0;31m             \u001b[0mself\u001b[0m\u001b[0;34m.\u001b[0m\u001b[0m_engine\u001b[0m \u001b[0;34m=\u001b[0m \u001b[0mCParserWrapper\u001b[0m\u001b[0;34m(\u001b[0m\u001b[0mself\u001b[0m\u001b[0;34m.\u001b[0m\u001b[0mf\u001b[0m\u001b[0;34m,\u001b[0m \u001b[0;34m**\u001b[0m\u001b[0mself\u001b[0m\u001b[0;34m.\u001b[0m\u001b[0moptions\u001b[0m\u001b[0;34m)\u001b[0m\u001b[0;34m\u001b[0m\u001b[0m\n\u001b[0m\u001b[1;32m   1050\u001b[0m         \u001b[0;32melse\u001b[0m\u001b[0;34m:\u001b[0m\u001b[0;34m\u001b[0m\u001b[0m\n",
      "\u001b[0;32m/usr/local/lib/python3.6/site-packages/pandas/io/parsers.py\u001b[0m in \u001b[0;36m__init__\u001b[0;34m(self, src, **kwds)\u001b[0m\n\u001b[1;32m   1694\u001b[0m \u001b[0;34m\u001b[0m\u001b[0m\n\u001b[0;32m-> 1695\u001b[0;31m         \u001b[0mself\u001b[0m\u001b[0;34m.\u001b[0m\u001b[0m_reader\u001b[0m \u001b[0;34m=\u001b[0m \u001b[0mparsers\u001b[0m\u001b[0;34m.\u001b[0m\u001b[0mTextReader\u001b[0m\u001b[0;34m(\u001b[0m\u001b[0msrc\u001b[0m\u001b[0;34m,\u001b[0m \u001b[0;34m**\u001b[0m\u001b[0mkwds\u001b[0m\u001b[0;34m)\u001b[0m\u001b[0;34m\u001b[0m\u001b[0m\n\u001b[0m\u001b[1;32m   1696\u001b[0m \u001b[0;34m\u001b[0m\u001b[0m\n",
      "\u001b[0;32mpandas/_libs/parsers.pyx\u001b[0m in \u001b[0;36mpandas._libs.parsers.TextReader.__cinit__\u001b[0;34m()\u001b[0m\n",
      "\u001b[0;32mpandas/_libs/parsers.pyx\u001b[0m in \u001b[0;36mpandas._libs.parsers.TextReader._setup_parser_source\u001b[0;34m()\u001b[0m\n",
      "\u001b[0;31mFileNotFoundError\u001b[0m: File b'reg_team_rating_dframe.csv' does not exist",
      "\nDuring handling of the above exception, another exception occurred:\n",
      "\u001b[0;31mNameError\u001b[0m                                 Traceback (most recent call last)",
      "\u001b[0;32m<ipython-input-2-b135609ba343>\u001b[0m in \u001b[0;36m<module>\u001b[0;34m()\u001b[0m\n\u001b[1;32m      6\u001b[0m     \u001b[0mkeep_html\u001b[0m \u001b[0;34m=\u001b[0m \u001b[0;32mTrue\u001b[0m\u001b[0;34m\u001b[0m\u001b[0m\n\u001b[1;32m      7\u001b[0m     \u001b[0;31m#just check if some of the html is there\u001b[0m\u001b[0;34m\u001b[0m\u001b[0;34m\u001b[0m\u001b[0m\n\u001b[0;32m----> 8\u001b[0;31m     \u001b[0;32mif\u001b[0m \u001b[0mos\u001b[0m\u001b[0;34m.\u001b[0m\u001b[0mpath\u001b[0m\u001b[0;34m.\u001b[0m\u001b[0misfile\u001b[0m\u001b[0;34m(\u001b[0m\u001b[0mhtmldir\u001b[0m \u001b[0;34m+\u001b[0m \u001b[0;34m\"/leagues_NBA_1987_ratings.html\"\u001b[0m\u001b[0;34m)\u001b[0m\u001b[0;34m:\u001b[0m\u001b[0;34m\u001b[0m\u001b[0m\n\u001b[0m\u001b[1;32m      9\u001b[0m         \u001b[0mkeep_html\u001b[0m \u001b[0;34m=\u001b[0m \u001b[0;32mFalse\u001b[0m\u001b[0;34m\u001b[0m\u001b[0m\n\u001b[1;32m     10\u001b[0m     \u001b[0mreg_team_rating_dframe\u001b[0m \u001b[0;34m=\u001b[0m \u001b[0mimps\u001b[0m\u001b[0;34m.\u001b[0m\u001b[0mteam_ratings\u001b[0m\u001b[0;34m(\u001b[0m\u001b[0mkeep_html\u001b[0m\u001b[0;34m,\u001b[0m \u001b[0mhtmldir\u001b[0m\u001b[0;34m)\u001b[0m\u001b[0;34m\u001b[0m\u001b[0m\n",
      "\u001b[0;31mNameError\u001b[0m: name 'os' is not defined"
     ]
    }
   ],
   "source": [
    "htmldir = 'HTML'\n",
    "try:\n",
    "    #check if csv has been generated and read it\n",
    "    reg_team_rating_dframe = pd.read_csv(\"reg_team_rating_dframe.csv\")\n",
    "except FileNotFoundError:\n",
    "    keep_html = True\n",
    "    #just check if some of the html is there\n",
    "    if os.path.isfile(htmldir + \"/leagues_NBA_1987_ratings.html\"):\n",
    "        keep_html = False\n",
    "    reg_team_rating_dframe = imps.team_ratings(keep_html, htmldir)\n",
    "    Champions_df = imps.Champion(keep_html, htmldir)\n",
    "    playoff_elim_df = imps.playoff_elim(keep_html, htmldir)\n",
    "    per_game_all = imps.get_leagues_html(keep_html, htmldir)"
   ]
  },
  {
   "cell_type": "code",
   "execution_count": null,
   "metadata": {},
   "outputs": [],
   "source": [
    "#Assist Ratio is the percentage of a team’s possessions that ends in an assist.\n",
    "#This stat is probably a good predictor because a team that has \"good ball movement\" tend to win (might be wrong obv)\n",
    "def assist_ratio (Team):\n",
    "    Assists,FGA,FTA,TO = Team\n",
    "    return ((Assists)*100)/ [(FGA)+(FTA*0.44)+(Assists)+(TO)]\n",
    "#df['assist_ratio'] = df[['Assists','FGA','FTA','TO']].apply(assist_ratio,axis=1)"
   ]
  },
  {
   "cell_type": "code",
   "execution_count": null,
   "metadata": {},
   "outputs": [],
   "source": [
    "#make sure to specify the year this distribution is run\n",
    "def Correlated_Gaussian_Winning_Percentage(df,year):\n",
    "    df = df[df['Year']==year] #gives the entire dataframe\n",
    "    Allowed_series = df['Points_Allowed']\n",
    "    Scored_series = df['Points_Scored']\n",
    "    list_of_percentages = DataFrame(columns = ['Team','Percentage'])\n",
    "    for team in range(len(df.index)):\n",
    "        percent = scipy.norm.cdf(team['Points_Scored']-team['Points Allowed'])/((Allowed_series-Scored_series).std())\n",
    "        series = Series ([team,percent],index = ['Team','Percentage'])\n",
    "        list_of_percentages = list_of_percentages.append(series,ignore_index=True)\n",
    "    list_of_percentage['Year']=Series ([year for i in range(len(list_of_percentage.index))])\n",
    "    return list_of_percentage\n",
    "#Correlated_Gaussian_Winning_Percentage(df,year)"
   ]
  },
  {
   "cell_type": "code",
   "execution_count": null,
   "metadata": {},
   "outputs": [],
   "source": [
    "#The method that gives an expected winning percentage using the ratio of a team’s wins and losses \n",
    "#is related to the number of points scored and allowed.\n",
    "def Pythagorean_Winning_Percentage(team):\n",
    "    Points_Scored,Points_Allowed = team\n",
    "    return (np.power(Points_Scored,16.5)/(np.power(Points_Scored,16.5)+np.power(Points_Allowed,16.5)))\n",
    "#df['pythag_win_percentage'] = df[['Points_Scored','Points_Allowed']].apply(Pythagorean_Winning_Percentage,axis=1)"
   ]
  },
  {
   "cell_type": "code",
   "execution_count": null,
   "metadata": {},
   "outputs": [],
   "source": [
    "#The numerical gap between a team’s offensive efficiency and defensive efficiency. \n",
    "#The differential represents what each team did for the entire season\n",
    "#and a team’s efficiency differential is a better predictor of future success.\n",
    "def Efficiency_Differential(team):\n",
    "    Offensive Efficiency,Defensive Efficiency = team\n",
    "    return ((Offensive Efficiency)-(Defensive Efficiency))\n",
    "#df['efficiency_diff'] = df[['Off_eff'],['Def_eff']].apply(Efficiency_Differential,axis=1)"
   ]
  },
  {
   "cell_type": "code",
   "execution_count": null,
   "metadata": {},
   "outputs": [],
   "source": [
    "def transition_defense(team):\n",
    "    Opponent_Fast_Break_Points, Opponent_Steals = team\n",
    "    return ((Opponent_Fast_Break_Points)/(Opponent_Steals)) \n",
    "    #I don't think this formula is particularly accurate\n",
    "    #because transition offense can be initiated in other ways"
   ]
  },
  {
   "cell_type": "code",
   "execution_count": null,
   "metadata": {},
   "outputs": [],
   "source": [
    "def transition_offense(team):\n",
    "    Fast_Break_Points,Steals = team\n",
    "    return ((Fast_Break_Points)/(Steals))\n",
    "#I don't think this formula is particularly accurate\n",
    "#because transition offense can be initiated in other ways"
   ]
  },
  {
   "cell_type": "code",
   "execution_count": null,
   "metadata": {},
   "outputs": [],
   "source": [
    "#this stat might be a good indicator if a team is a \"rough and tough\" team as opposed to a finesse team\n",
    "#or it might indicate that the team has a dominant big man.\n",
    "def Defensive_Rebouding_Percentage(team):\n",
    "    Defensive_Rebounds,Opponent_Offensive_Rebounds = team\n",
    "    return((Defensive_Rebounds)/((Defensive_Rebounds)+(Opponent_Offensive_Rebounds)))"
   ]
  },
  {
   "cell_type": "code",
   "execution_count": null,
   "metadata": {},
   "outputs": [],
   "source": [
    "#this stat might be a good indicator if a team is a \"rough and tough\" team as opposed to a finesse team\n",
    "#or it might indicate that the team has a dominant big man.\n",
    "def Offensive_Rebounding_Percentage(team):\n",
    "    Offensive_Rebounds,Opponent_Defensive_Rebounds = team\n",
    "    return ((Offensive_Rebounds)/((Offensive_Rebounds)+(Opponent_Defensive_Rebounds)))"
   ]
  },
  {
   "cell_type": "code",
   "execution_count": null,
   "metadata": {},
   "outputs": [],
   "source": [
    "#shows how fast a team plays\n",
    "def pace (team):\n",
    "    Team_Minutes,Possession_Team,Possession_Opponent = team\n",
    "    return ((240/(Team_Minutes))*((Possession_Team+Possession_Opponent)/2))"
   ]
  },
  {
   "cell_type": "code",
   "execution_count": null,
   "metadata": {},
   "outputs": [],
   "source": [
    "#The metric that indicates the percentage of the time a team will score if not sent to the free throw line. \n",
    "def play_percentage(team):\n",
    "    FGM,FGA,Offensive_Rebounds,Turnovers = team\n",
    "    return (FGM/(FGA-Offensive_Rebounds+Turnovers))"
   ]
  },
  {
   "cell_type": "code",
   "execution_count": null,
   "metadata": {},
   "outputs": [],
   "source": [
    "#Turnover Ratio is the percentage of a team’s possessions that end in a turnover.\n",
    "#this is likely to be a pretty good indicator as teams which take care of the ball are better (might be wrong)\n",
    "def Turnover_Ratio(team):\n",
    "    Turnovers,FGA,FTA,Assists,Turnovers = team\n",
    "    return ((Turnovers*100)/ ((FGA)+(FTA*0.44)+(Assists)+(Turnovers)))"
   ]
  }
 ],
 "metadata": {
  "kernelspec": {
   "display_name": "Python 3",
   "language": "python",
   "name": "python3"
  },
  "language_info": {
   "codemirror_mode": {
    "name": "ipython",
    "version": 3
   },
   "file_extension": ".py",
   "mimetype": "text/x-python",
   "name": "python",
   "nbconvert_exporter": "python",
   "pygments_lexer": "ipython3",
   "version": "3.6.2"
  }
 },
 "nbformat": 4,
 "nbformat_minor": 2
}
